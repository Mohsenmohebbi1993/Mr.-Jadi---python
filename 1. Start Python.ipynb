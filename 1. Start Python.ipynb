{
 "cells": [
  {
   "cell_type": "markdown",
   "id": "9b23996a",
   "metadata": {},
   "source": [
    "## 1. Start Python"
   ]
  },
  {
   "cell_type": "code",
   "execution_count": 3,
   "id": "4c07da9a",
   "metadata": {},
   "outputs": [
    {
     "name": "stdout",
     "output_type": "stream",
     "text": [
      "Hello World!\n",
      "5\n",
      "Hello World!\n"
     ]
    }
   ],
   "source": [
    "print(\"Hello World!\")\n",
    "a = 5\n",
    "print(a)\n",
    "\n",
    "b= \"Hello World!\"\n",
    "print(b)"
   ]
  }
 ],
 "metadata": {
  "kernelspec": {
   "display_name": "Python 3",
   "language": "python",
   "name": "python3"
  },
  "language_info": {
   "codemirror_mode": {
    "name": "ipython",
    "version": 3
   },
   "file_extension": ".py",
   "mimetype": "text/x-python",
   "name": "python",
   "nbconvert_exporter": "python",
   "pygments_lexer": "ipython3",
   "version": "3.13.2"
  }
 },
 "nbformat": 4,
 "nbformat_minor": 5
}
