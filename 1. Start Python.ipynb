{
 "cells": [
  {
   "cell_type": "markdown",
   "id": "9b23996a",
   "metadata": {},
   "source": [
    "## 1. Start Python"
   ]
  },
  {
   "cell_type": "code",
   "execution_count": null,
   "id": "4c07da9a",
   "metadata": {},
   "outputs": [],
   "source": []
  }
 ],
 "metadata": {
  "language_info": {
   "name": "python"
  }
 },
 "nbformat": 4,
 "nbformat_minor": 5
}
